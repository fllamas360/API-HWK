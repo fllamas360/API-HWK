{
 "cells": [
  {
   "cell_type": "markdown",
   "metadata": {},
   "source": [
    "# Unit 5 - Financial Planning\n"
   ]
  },
  {
   "cell_type": "code",
   "execution_count": 1,
   "metadata": {},
   "outputs": [],
   "source": [
    "# Initial imports\n",
    "import os\n",
    "import requests\n",
    "import pandas as pd\n",
    "import numpy as np\n",
    "from dotenv import load_dotenv\n",
    "import alpaca_trade_api as tradeapi\n",
    "from MCForecastTools import MCSimulation\n",
    "import json\n",
    "\n",
    "%matplotlib inline"
   ]
  },
  {
   "cell_type": "code",
   "execution_count": 2,
   "metadata": {},
   "outputs": [
    {
     "data": {
      "text/plain": [
       "True"
      ]
     },
     "execution_count": 2,
     "metadata": {},
     "output_type": "execute_result"
    }
   ],
   "source": [
    "# Load .env enviroment variables\n",
    "load_dotenv()"
   ]
  },
  {
   "cell_type": "markdown",
   "metadata": {},
   "source": [
    "## Part 1 - Personal Finance Planner"
   ]
  },
  {
   "cell_type": "markdown",
   "metadata": {},
   "source": [
    "### Collect Crypto Prices Using the `requests` Library"
   ]
  },
  {
   "cell_type": "code",
   "execution_count": 3,
   "metadata": {},
   "outputs": [
    {
     "data": {
      "text/plain": [
       "1.2"
      ]
     },
     "execution_count": 3,
     "metadata": {},
     "output_type": "execute_result"
    }
   ],
   "source": [
    "# Set current amount of crypto assets\n",
    "my_btc = 1.2\n",
    "my_eth = 5.3\n",
    "# Testing variable storage\n",
    "my_btc"
   ]
  },
  {
   "cell_type": "code",
   "execution_count": 4,
   "metadata": {},
   "outputs": [],
   "source": [
    "# Crypto API URLs\n",
    "btc_url = \"https://api.alternative.me/v2/ticker/Bitcoin/?convert=USD\"\n",
    "eth_url = \"https://api.alternative.me/v2/ticker/Ethereum/?convert=USD\""
   ]
  },
  {
   "cell_type": "code",
   "execution_count": 5,
   "metadata": {},
   "outputs": [
    {
     "name": "stdout",
     "output_type": "stream",
     "text": [
      "The current value of your 1.2 BTC is $55498.80\n",
      "The current value of your 5.3 ETH is $7634.49\n"
     ]
    }
   ],
   "source": [
    "# Fetch current BTC price\n",
    "btc_data = requests.get(btc_url).json()\n",
    "my_btc_price = btc_data[\"data\"][\"1\"][\"quotes\"][\"USD\"][\"price\"]\n",
    "# Fetch current ETH price\n",
    "eth_data = requests.get(eth_url).json()\n",
    "my_eth_price = eth_data[\"data\"][\"1027\"][\"quotes\"][\"USD\"][\"price\"]\n",
    "# Compute current value of my crypto\n",
    "my_btc_value = my_btc_price * my_btc \n",
    "my_eth_value = my_eth_price * my_eth\n",
    "# Print current crypto wallet balance\n",
    "print(f\"The current value of your {my_btc} BTC is ${my_btc_value:0.2f}\")\n",
    "print(f\"The current value of your {my_eth} ETH is ${my_eth_value:0.2f}\")"
   ]
  },
  {
   "cell_type": "markdown",
   "metadata": {},
   "source": [
    "## Collect Investments Data Using Alpaca: `SPY` (stocks) and `AGG` (bonds)"
   ]
  },
  {
   "cell_type": "code",
   "execution_count": 6,
   "metadata": {},
   "outputs": [],
   "source": [
    "# Current amount of shares\n",
    "my_spy = 50\n",
    "my_agg = 200"
   ]
  },
  {
   "cell_type": "code",
   "execution_count": 7,
   "metadata": {},
   "outputs": [],
   "source": [
    "# Set Alpaca API key and secret\n",
    "alpaca_key = os.getenv(\"ALPACA_API_KEY\")\n",
    "alpaca_key2 = os.getenv(\"API_SECRET_KEY\")\n",
    "base_url = \"https://paper-api.alpaca.markets\"\n",
    "# Create the Alpaca API object\n",
    "alpaca = tradeapi.REST(\n",
    "    alpaca_key,\n",
    "    alpaca_key2,\n",
    "    base_url,\n",
    "    api_version=\"v2\"\n",
    ")"
   ]
  },
  {
   "cell_type": "code",
   "execution_count": 8,
   "metadata": {},
   "outputs": [
    {
     "data": {
      "text/html": [
       "<div>\n",
       "<style scoped>\n",
       "    .dataframe tbody tr th:only-of-type {\n",
       "        vertical-align: middle;\n",
       "    }\n",
       "\n",
       "    .dataframe tbody tr th {\n",
       "        vertical-align: top;\n",
       "    }\n",
       "\n",
       "    .dataframe thead tr th {\n",
       "        text-align: left;\n",
       "    }\n",
       "\n",
       "    .dataframe thead tr:last-of-type th {\n",
       "        text-align: right;\n",
       "    }\n",
       "</style>\n",
       "<table border=\"1\" class=\"dataframe\">\n",
       "  <thead>\n",
       "    <tr>\n",
       "      <th></th>\n",
       "      <th colspan=\"5\" halign=\"left\">AGG</th>\n",
       "      <th colspan=\"5\" halign=\"left\">SPY</th>\n",
       "    </tr>\n",
       "    <tr>\n",
       "      <th></th>\n",
       "      <th>open</th>\n",
       "      <th>high</th>\n",
       "      <th>low</th>\n",
       "      <th>close</th>\n",
       "      <th>volume</th>\n",
       "      <th>open</th>\n",
       "      <th>high</th>\n",
       "      <th>low</th>\n",
       "      <th>close</th>\n",
       "      <th>volume</th>\n",
       "    </tr>\n",
       "    <tr>\n",
       "      <th>time</th>\n",
       "      <th></th>\n",
       "      <th></th>\n",
       "      <th></th>\n",
       "      <th></th>\n",
       "      <th></th>\n",
       "      <th></th>\n",
       "      <th></th>\n",
       "      <th></th>\n",
       "      <th></th>\n",
       "      <th></th>\n",
       "    </tr>\n",
       "  </thead>\n",
       "  <tbody>\n",
       "    <tr>\n",
       "      <th>2021-02-22 00:00:00-05:00</th>\n",
       "      <td>115.76</td>\n",
       "      <td>115.8662</td>\n",
       "      <td>115.48</td>\n",
       "      <td>115.49</td>\n",
       "      <td>4704520</td>\n",
       "      <td>387.06</td>\n",
       "      <td>389.62</td>\n",
       "      <td>386.74</td>\n",
       "      <td>387.11</td>\n",
       "      <td>56604869</td>\n",
       "    </tr>\n",
       "  </tbody>\n",
       "</table>\n",
       "</div>"
      ],
      "text/plain": [
       "                              AGG                                        SPY  \\\n",
       "                             open      high     low   close   volume    open   \n",
       "time                                                                           \n",
       "2021-02-22 00:00:00-05:00  115.76  115.8662  115.48  115.49  4704520  387.06   \n",
       "\n",
       "                                                             \n",
       "                             high     low   close    volume  \n",
       "time                                                         \n",
       "2021-02-22 00:00:00-05:00  389.62  386.74  387.11  56604869  "
      ]
     },
     "execution_count": 8,
     "metadata": {},
     "output_type": "execute_result"
    }
   ],
   "source": [
    "# Format current date as ISO format\n",
    "current_date = pd.Timestamp(\"2021-02-22\", tz=\"America/New_York\").isoformat()\n",
    "\n",
    "# Set the tickers\n",
    "tickers = [\"AGG\", \"SPY\"]\n",
    "\n",
    "# Set timeframe to '1D' for Alpaca API\n",
    "timeframe = \"1D\"\n",
    "\n",
    "# Get current closing prices for SPY and AGG\n",
    "portfolio_df = alpaca.get_barset(\n",
    "    tickers,\n",
    "    timeframe,\n",
    "    start = current_date,\n",
    "    end = current_date,\n",
    ").df\n",
    "\n",
    "# Preview DataFrame\n",
    "portfolio_df"
   ]
  },
  {
   "cell_type": "code",
   "execution_count": 9,
   "metadata": {},
   "outputs": [
    {
     "name": "stdout",
     "output_type": "stream",
     "text": [
      "Current AGG closing price: $115.49\n",
      "Current SPY closing price: $387.11\n"
     ]
    }
   ],
   "source": [
    "# Pick AGG and SPY close prices\n",
    "agg_close_price = portfolio_df[\"AGG\"][\"close\"][0]\n",
    "spy_close_price = portfolio_df[\"SPY\"][\"close\"][0]\n",
    "\n",
    "# Print AGG and SPY close prices\n",
    "print(f\"Current AGG closing price: ${agg_close_price}\")\n",
    "print(f\"Current SPY closing price: ${spy_close_price}\")"
   ]
  },
  {
   "cell_type": "code",
   "execution_count": 10,
   "metadata": {},
   "outputs": [
    {
     "name": "stdout",
     "output_type": "stream",
     "text": [
      "The current value of your 50 SPY shares is $19355.50\n",
      "The current value of your 200 AGG shares is $23098.00\n"
     ]
    }
   ],
   "source": [
    "# Compute the current value of shares\n",
    "agg_value = my_agg * agg_close_price\n",
    "spy_value = my_spy * spy_close_price\n",
    "\n",
    "# Print current value of share\n",
    "print(f\"The current value of your {my_spy} SPY shares is ${spy_value:0.2f}\")\n",
    "print(f\"The current value of your {my_agg} AGG shares is ${agg_value:0.2f}\")"
   ]
  },
  {
   "cell_type": "markdown",
   "metadata": {},
   "source": [
    "### Savings Health Analysis"
   ]
  },
  {
   "cell_type": "code",
   "execution_count": 17,
   "metadata": {},
   "outputs": [
    {
     "ename": "AttributeError",
     "evalue": "module 'pandas' has no attribute 'Dataframe'",
     "output_type": "error",
     "traceback": [
      "\u001b[0;31m---------------------------------------------------------------------------\u001b[0m",
      "\u001b[0;31mAttributeError\u001b[0m                            Traceback (most recent call last)",
      "\u001b[0;32m<ipython-input-17-e4fd24587879>\u001b[0m in \u001b[0;36m<module>\u001b[0;34m\u001b[0m\n\u001b[1;32m      6\u001b[0m \u001b[0mmy_savings\u001b[0m \u001b[0;34m=\u001b[0m \u001b[0;34m[\u001b[0m\u001b[0mmy_btc_value\u001b[0m \u001b[0;34m+\u001b[0m \u001b[0mmy_eth_value\u001b[0m\u001b[0;34m,\u001b[0m \u001b[0magg_value\u001b[0m \u001b[0;34m+\u001b[0m \u001b[0mspy_value\u001b[0m\u001b[0;34m]\u001b[0m\u001b[0;34m\u001b[0m\u001b[0;34m\u001b[0m\u001b[0m\n\u001b[1;32m      7\u001b[0m \u001b[0;34m\u001b[0m\u001b[0m\n\u001b[0;32m----> 8\u001b[0;31m \u001b[0mdf_savings\u001b[0m \u001b[0;34m=\u001b[0m \u001b[0mpd\u001b[0m\u001b[0;34m.\u001b[0m\u001b[0mDataframe\u001b[0m\u001b[0;34m(\u001b[0m\u001b[0mmy_savings\u001b[0m\u001b[0;34m,\u001b[0m \u001b[0mcolumns\u001b[0m \u001b[0;34m=\u001b[0m \u001b[0;34m[\u001b[0m\u001b[0;34m\"amount\"\u001b[0m\u001b[0;34m]\u001b[0m\u001b[0;34m[\u001b[0m\u001b[0mcrypto\u001b[0m\u001b[0;34m,\u001b[0m \u001b[0msales\u001b[0m\u001b[0;34m]\u001b[0m\u001b[0;34m)\u001b[0m\u001b[0;34m\u001b[0m\u001b[0;34m\u001b[0m\u001b[0m\n\u001b[0m\u001b[1;32m      9\u001b[0m \u001b[0;34m\u001b[0m\u001b[0m\n\u001b[1;32m     10\u001b[0m \u001b[0;31m# Display savings DataFrame\u001b[0m\u001b[0;34m\u001b[0m\u001b[0;34m\u001b[0m\u001b[0;34m\u001b[0m\u001b[0m\n",
      "\u001b[0;32m~/opt/anaconda3/envs/alpacaenv/lib/python3.7/site-packages/pandas/__init__.py\u001b[0m in \u001b[0;36m__getattr__\u001b[0;34m(name)\u001b[0m\n\u001b[1;32m    256\u001b[0m             \u001b[0;32mreturn\u001b[0m \u001b[0m_SparseArray\u001b[0m\u001b[0;34m\u001b[0m\u001b[0;34m\u001b[0m\u001b[0m\n\u001b[1;32m    257\u001b[0m \u001b[0;34m\u001b[0m\u001b[0m\n\u001b[0;32m--> 258\u001b[0;31m         \u001b[0;32mraise\u001b[0m \u001b[0mAttributeError\u001b[0m\u001b[0;34m(\u001b[0m\u001b[0;34mf\"module 'pandas' has no attribute '{name}'\"\u001b[0m\u001b[0;34m)\u001b[0m\u001b[0;34m\u001b[0m\u001b[0;34m\u001b[0m\u001b[0m\n\u001b[0m\u001b[1;32m    259\u001b[0m \u001b[0;34m\u001b[0m\u001b[0m\n\u001b[1;32m    260\u001b[0m \u001b[0;34m\u001b[0m\u001b[0m\n",
      "\u001b[0;31mAttributeError\u001b[0m: module 'pandas' has no attribute 'Dataframe'"
     ]
    }
   ],
   "source": [
    "# Set monthly household income\n",
    "monthly_income = 12000\n",
    "\n",
    "# Create savings DataFrame\n",
    "#Creating list for plot\n",
    "my_savings = [my_btc_value + my_eth_value, agg_value + spy_value]\n",
    "\n",
    "df_savings = pd.Dataframe(my_savings, columns = [\"amount\"][crypto, sales])\n",
    "\n",
    "# Display savings DataFrame\n",
    "df_savings"
   ]
  },
  {
   "cell_type": "code",
   "execution_count": null,
   "metadata": {},
   "outputs": [],
   "source": [
    "# Plot savings pie chart\n",
    "df_savings.plot.pie(y=0)"
   ]
  },
  {
   "cell_type": "code",
   "execution_count": null,
   "metadata": {},
   "outputs": [],
   "source": [
    "# Set ideal emergency fund\n",
    "emergency_fund = monthly_income * 3\n",
    "\n",
    "# Calculate total amount of savings\n",
    "# YOUR CODE HERE!\n",
    "\n",
    "# Validate saving health\n",
    "# YOUR CODE HERE!"
   ]
  },
  {
   "cell_type": "markdown",
   "metadata": {},
   "source": [
    "## Part 2 - Retirement Planning\n",
    "\n",
    "### Monte Carlo Simulation"
   ]
  },
  {
   "cell_type": "code",
   "execution_count": 12,
   "metadata": {},
   "outputs": [],
   "source": [
    "# Set start and end dates of five years back from today.\n",
    "# Sample results may vary from the solution based on the time frame chosen\n",
    "start_date = pd.Timestamp('2016-02-22', tz='America/New_York').isoformat()\n",
    "end_date = pd.Timestamp('2021-02-22', tz='America/New_York').isoformat()"
   ]
  },
  {
   "cell_type": "code",
   "execution_count": 16,
   "metadata": {},
   "outputs": [
    {
     "data": {
      "text/html": [
       "<div>\n",
       "<style scoped>\n",
       "    .dataframe tbody tr th:only-of-type {\n",
       "        vertical-align: middle;\n",
       "    }\n",
       "\n",
       "    .dataframe tbody tr th {\n",
       "        vertical-align: top;\n",
       "    }\n",
       "\n",
       "    .dataframe thead tr th {\n",
       "        text-align: left;\n",
       "    }\n",
       "\n",
       "    .dataframe thead tr:last-of-type th {\n",
       "        text-align: right;\n",
       "    }\n",
       "</style>\n",
       "<table border=\"1\" class=\"dataframe\">\n",
       "  <thead>\n",
       "    <tr>\n",
       "      <th></th>\n",
       "      <th colspan=\"5\" halign=\"left\">AGG</th>\n",
       "      <th colspan=\"5\" halign=\"left\">SPY</th>\n",
       "    </tr>\n",
       "    <tr>\n",
       "      <th></th>\n",
       "      <th>open</th>\n",
       "      <th>high</th>\n",
       "      <th>low</th>\n",
       "      <th>close</th>\n",
       "      <th>volume</th>\n",
       "      <th>open</th>\n",
       "      <th>high</th>\n",
       "      <th>low</th>\n",
       "      <th>close</th>\n",
       "      <th>volume</th>\n",
       "    </tr>\n",
       "    <tr>\n",
       "      <th>time</th>\n",
       "      <th></th>\n",
       "      <th></th>\n",
       "      <th></th>\n",
       "      <th></th>\n",
       "      <th></th>\n",
       "      <th></th>\n",
       "      <th></th>\n",
       "      <th></th>\n",
       "      <th></th>\n",
       "      <th></th>\n",
       "    </tr>\n",
       "  </thead>\n",
       "  <tbody>\n",
       "    <tr>\n",
       "      <th>2020-09-29 00:00:00-04:00</th>\n",
       "      <td>118.28</td>\n",
       "      <td>118.33</td>\n",
       "      <td>118.2100</td>\n",
       "      <td>118.23</td>\n",
       "      <td>3974292</td>\n",
       "      <td>333.97</td>\n",
       "      <td>334.7700</td>\n",
       "      <td>331.6209</td>\n",
       "      <td>332.39</td>\n",
       "      <td>40380416</td>\n",
       "    </tr>\n",
       "    <tr>\n",
       "      <th>2020-09-30 00:00:00-04:00</th>\n",
       "      <td>118.26</td>\n",
       "      <td>118.26</td>\n",
       "      <td>117.9516</td>\n",
       "      <td>118.07</td>\n",
       "      <td>5314447</td>\n",
       "      <td>333.09</td>\n",
       "      <td>338.2900</td>\n",
       "      <td>332.8800</td>\n",
       "      <td>334.89</td>\n",
       "      <td>78401575</td>\n",
       "    </tr>\n",
       "    <tr>\n",
       "      <th>2020-10-01 00:00:00-04:00</th>\n",
       "      <td>117.81</td>\n",
       "      <td>118.04</td>\n",
       "      <td>117.7500</td>\n",
       "      <td>117.99</td>\n",
       "      <td>9535086</td>\n",
       "      <td>337.69</td>\n",
       "      <td>338.7400</td>\n",
       "      <td>335.0100</td>\n",
       "      <td>337.03</td>\n",
       "      <td>76998987</td>\n",
       "    </tr>\n",
       "    <tr>\n",
       "      <th>2020-10-02 00:00:00-04:00</th>\n",
       "      <td>118.03</td>\n",
       "      <td>118.04</td>\n",
       "      <td>117.8100</td>\n",
       "      <td>117.92</td>\n",
       "      <td>5356203</td>\n",
       "      <td>331.70</td>\n",
       "      <td>337.0126</td>\n",
       "      <td>331.1900</td>\n",
       "      <td>333.87</td>\n",
       "      <td>72640620</td>\n",
       "    </tr>\n",
       "    <tr>\n",
       "      <th>2020-10-05 00:00:00-04:00</th>\n",
       "      <td>117.74</td>\n",
       "      <td>117.74</td>\n",
       "      <td>117.5200</td>\n",
       "      <td>117.52</td>\n",
       "      <td>4343747</td>\n",
       "      <td>336.06</td>\n",
       "      <td>339.9600</td>\n",
       "      <td>336.0100</td>\n",
       "      <td>339.73</td>\n",
       "      <td>38510456</td>\n",
       "    </tr>\n",
       "  </tbody>\n",
       "</table>\n",
       "</div>"
      ],
      "text/plain": [
       "                              AGG                                        SPY  \\\n",
       "                             open    high       low   close   volume    open   \n",
       "time                                                                           \n",
       "2020-09-29 00:00:00-04:00  118.28  118.33  118.2100  118.23  3974292  333.97   \n",
       "2020-09-30 00:00:00-04:00  118.26  118.26  117.9516  118.07  5314447  333.09   \n",
       "2020-10-01 00:00:00-04:00  117.81  118.04  117.7500  117.99  9535086  337.69   \n",
       "2020-10-02 00:00:00-04:00  118.03  118.04  117.8100  117.92  5356203  331.70   \n",
       "2020-10-05 00:00:00-04:00  117.74  117.74  117.5200  117.52  4343747  336.06   \n",
       "\n",
       "                                                                 \n",
       "                               high       low   close    volume  \n",
       "time                                                             \n",
       "2020-09-29 00:00:00-04:00  334.7700  331.6209  332.39  40380416  \n",
       "2020-09-30 00:00:00-04:00  338.2900  332.8800  334.89  78401575  \n",
       "2020-10-01 00:00:00-04:00  338.7400  335.0100  337.03  76998987  \n",
       "2020-10-02 00:00:00-04:00  337.0126  331.1900  333.87  72640620  \n",
       "2020-10-05 00:00:00-04:00  339.9600  336.0100  339.73  38510456  "
      ]
     },
     "execution_count": 16,
     "metadata": {},
     "output_type": "execute_result"
    }
   ],
   "source": [
    "# Get 5 years' worth of historical data for SPY and AGG\n",
    "timeframe = \"1D\"\n",
    "tickers = [\"AGG\", \"SPY\"]\n",
    "df_stock_data = alpaca.get_barset(\n",
    "    tickers,\n",
    "    timeframe,\n",
    "    start=start_date,\n",
    "    end=end_date\n",
    ").df\n",
    "# Display sample data\n",
    "df_stock_data.head()"
   ]
  },
  {
   "cell_type": "code",
   "execution_count": 20,
   "metadata": {},
   "outputs": [],
   "source": [
    "# Configuring a Monte Carlo simulation to forecast 30 years cumulative returns\n",
    "MC_thirtyyear = MCSimulation(\n",
    "    portfolio_data=df_stock_data,\n",
    "    weights = [.40,.60],\n",
    "    num_simulation = 500,\n",
    "    num_trading_days =252*30\n",
    ")"
   ]
  },
  {
   "cell_type": "code",
   "execution_count": 21,
   "metadata": {},
   "outputs": [
    {
     "data": {
      "text/html": [
       "<div>\n",
       "<style scoped>\n",
       "    .dataframe tbody tr th:only-of-type {\n",
       "        vertical-align: middle;\n",
       "    }\n",
       "\n",
       "    .dataframe tbody tr th {\n",
       "        vertical-align: top;\n",
       "    }\n",
       "\n",
       "    .dataframe thead tr th {\n",
       "        text-align: left;\n",
       "    }\n",
       "\n",
       "    .dataframe thead tr:last-of-type th {\n",
       "        text-align: right;\n",
       "    }\n",
       "</style>\n",
       "<table border=\"1\" class=\"dataframe\">\n",
       "  <thead>\n",
       "    <tr>\n",
       "      <th></th>\n",
       "      <th colspan=\"6\" halign=\"left\">AGG</th>\n",
       "      <th colspan=\"6\" halign=\"left\">SPY</th>\n",
       "    </tr>\n",
       "    <tr>\n",
       "      <th></th>\n",
       "      <th>open</th>\n",
       "      <th>high</th>\n",
       "      <th>low</th>\n",
       "      <th>close</th>\n",
       "      <th>volume</th>\n",
       "      <th>daily_return</th>\n",
       "      <th>open</th>\n",
       "      <th>high</th>\n",
       "      <th>low</th>\n",
       "      <th>close</th>\n",
       "      <th>volume</th>\n",
       "      <th>daily_return</th>\n",
       "    </tr>\n",
       "    <tr>\n",
       "      <th>time</th>\n",
       "      <th></th>\n",
       "      <th></th>\n",
       "      <th></th>\n",
       "      <th></th>\n",
       "      <th></th>\n",
       "      <th></th>\n",
       "      <th></th>\n",
       "      <th></th>\n",
       "      <th></th>\n",
       "      <th></th>\n",
       "      <th></th>\n",
       "      <th></th>\n",
       "    </tr>\n",
       "  </thead>\n",
       "  <tbody>\n",
       "    <tr>\n",
       "      <th>2020-09-29 00:00:00-04:00</th>\n",
       "      <td>118.28</td>\n",
       "      <td>118.33</td>\n",
       "      <td>118.2100</td>\n",
       "      <td>118.23</td>\n",
       "      <td>3974292</td>\n",
       "      <td>NaN</td>\n",
       "      <td>333.97</td>\n",
       "      <td>334.7700</td>\n",
       "      <td>331.6209</td>\n",
       "      <td>332.39</td>\n",
       "      <td>40380416</td>\n",
       "      <td>NaN</td>\n",
       "    </tr>\n",
       "    <tr>\n",
       "      <th>2020-09-30 00:00:00-04:00</th>\n",
       "      <td>118.26</td>\n",
       "      <td>118.26</td>\n",
       "      <td>117.9516</td>\n",
       "      <td>118.07</td>\n",
       "      <td>5314447</td>\n",
       "      <td>-0.001353</td>\n",
       "      <td>333.09</td>\n",
       "      <td>338.2900</td>\n",
       "      <td>332.8800</td>\n",
       "      <td>334.89</td>\n",
       "      <td>78401575</td>\n",
       "      <td>0.007521</td>\n",
       "    </tr>\n",
       "    <tr>\n",
       "      <th>2020-10-01 00:00:00-04:00</th>\n",
       "      <td>117.81</td>\n",
       "      <td>118.04</td>\n",
       "      <td>117.7500</td>\n",
       "      <td>117.99</td>\n",
       "      <td>9535086</td>\n",
       "      <td>-0.000678</td>\n",
       "      <td>337.69</td>\n",
       "      <td>338.7400</td>\n",
       "      <td>335.0100</td>\n",
       "      <td>337.03</td>\n",
       "      <td>76998987</td>\n",
       "      <td>0.006390</td>\n",
       "    </tr>\n",
       "    <tr>\n",
       "      <th>2020-10-02 00:00:00-04:00</th>\n",
       "      <td>118.03</td>\n",
       "      <td>118.04</td>\n",
       "      <td>117.8100</td>\n",
       "      <td>117.92</td>\n",
       "      <td>5356203</td>\n",
       "      <td>-0.000593</td>\n",
       "      <td>331.70</td>\n",
       "      <td>337.0126</td>\n",
       "      <td>331.1900</td>\n",
       "      <td>333.87</td>\n",
       "      <td>72640620</td>\n",
       "      <td>-0.009376</td>\n",
       "    </tr>\n",
       "    <tr>\n",
       "      <th>2020-10-05 00:00:00-04:00</th>\n",
       "      <td>117.74</td>\n",
       "      <td>117.74</td>\n",
       "      <td>117.5200</td>\n",
       "      <td>117.52</td>\n",
       "      <td>4343747</td>\n",
       "      <td>-0.003392</td>\n",
       "      <td>336.06</td>\n",
       "      <td>339.9600</td>\n",
       "      <td>336.0100</td>\n",
       "      <td>339.73</td>\n",
       "      <td>38510456</td>\n",
       "      <td>0.017552</td>\n",
       "    </tr>\n",
       "  </tbody>\n",
       "</table>\n",
       "</div>"
      ],
      "text/plain": [
       "                              AGG                                     \\\n",
       "                             open    high       low   close   volume   \n",
       "time                                                                   \n",
       "2020-09-29 00:00:00-04:00  118.28  118.33  118.2100  118.23  3974292   \n",
       "2020-09-30 00:00:00-04:00  118.26  118.26  117.9516  118.07  5314447   \n",
       "2020-10-01 00:00:00-04:00  117.81  118.04  117.7500  117.99  9535086   \n",
       "2020-10-02 00:00:00-04:00  118.03  118.04  117.8100  117.92  5356203   \n",
       "2020-10-05 00:00:00-04:00  117.74  117.74  117.5200  117.52  4343747   \n",
       "\n",
       "                                           SPY                              \\\n",
       "                          daily_return    open      high       low   close   \n",
       "time                                                                         \n",
       "2020-09-29 00:00:00-04:00          NaN  333.97  334.7700  331.6209  332.39   \n",
       "2020-09-30 00:00:00-04:00    -0.001353  333.09  338.2900  332.8800  334.89   \n",
       "2020-10-01 00:00:00-04:00    -0.000678  337.69  338.7400  335.0100  337.03   \n",
       "2020-10-02 00:00:00-04:00    -0.000593  331.70  337.0126  331.1900  333.87   \n",
       "2020-10-05 00:00:00-04:00    -0.003392  336.06  339.9600  336.0100  339.73   \n",
       "\n",
       "                                                  \n",
       "                             volume daily_return  \n",
       "time                                              \n",
       "2020-09-29 00:00:00-04:00  40380416          NaN  \n",
       "2020-09-30 00:00:00-04:00  78401575     0.007521  \n",
       "2020-10-01 00:00:00-04:00  76998987     0.006390  \n",
       "2020-10-02 00:00:00-04:00  72640620    -0.009376  \n",
       "2020-10-05 00:00:00-04:00  38510456     0.017552  "
      ]
     },
     "execution_count": 21,
     "metadata": {},
     "output_type": "execute_result"
    }
   ],
   "source": [
    "# Printing the simulation input data\n",
    "MC_thirtyyear.portfolio_data.head()"
   ]
  },
  {
   "cell_type": "code",
   "execution_count": 22,
   "metadata": {},
   "outputs": [
    {
     "name": "stdout",
     "output_type": "stream",
     "text": [
      "Running Monte Carlo simulation number 0.\n",
      "Running Monte Carlo simulation number 10.\n",
      "Running Monte Carlo simulation number 20.\n",
      "Running Monte Carlo simulation number 30.\n",
      "Running Monte Carlo simulation number 40.\n",
      "Running Monte Carlo simulation number 50.\n",
      "Running Monte Carlo simulation number 60.\n",
      "Running Monte Carlo simulation number 70.\n",
      "Running Monte Carlo simulation number 80.\n",
      "Running Monte Carlo simulation number 90.\n",
      "Running Monte Carlo simulation number 100.\n",
      "Running Monte Carlo simulation number 110.\n",
      "Running Monte Carlo simulation number 120.\n",
      "Running Monte Carlo simulation number 130.\n",
      "Running Monte Carlo simulation number 140.\n",
      "Running Monte Carlo simulation number 150.\n",
      "Running Monte Carlo simulation number 160.\n",
      "Running Monte Carlo simulation number 170.\n",
      "Running Monte Carlo simulation number 180.\n",
      "Running Monte Carlo simulation number 190.\n",
      "Running Monte Carlo simulation number 200.\n",
      "Running Monte Carlo simulation number 210.\n",
      "Running Monte Carlo simulation number 220.\n",
      "Running Monte Carlo simulation number 230.\n",
      "Running Monte Carlo simulation number 240.\n",
      "Running Monte Carlo simulation number 250.\n",
      "Running Monte Carlo simulation number 260.\n",
      "Running Monte Carlo simulation number 270.\n",
      "Running Monte Carlo simulation number 280.\n",
      "Running Monte Carlo simulation number 290.\n",
      "Running Monte Carlo simulation number 300.\n",
      "Running Monte Carlo simulation number 310.\n",
      "Running Monte Carlo simulation number 320.\n",
      "Running Monte Carlo simulation number 330.\n",
      "Running Monte Carlo simulation number 340.\n",
      "Running Monte Carlo simulation number 350.\n",
      "Running Monte Carlo simulation number 360.\n",
      "Running Monte Carlo simulation number 370.\n",
      "Running Monte Carlo simulation number 380.\n",
      "Running Monte Carlo simulation number 390.\n",
      "Running Monte Carlo simulation number 400.\n",
      "Running Monte Carlo simulation number 410.\n",
      "Running Monte Carlo simulation number 420.\n",
      "Running Monte Carlo simulation number 430.\n",
      "Running Monte Carlo simulation number 440.\n",
      "Running Monte Carlo simulation number 450.\n",
      "Running Monte Carlo simulation number 460.\n",
      "Running Monte Carlo simulation number 470.\n",
      "Running Monte Carlo simulation number 480.\n",
      "Running Monte Carlo simulation number 490.\n"
     ]
    },
    {
     "data": {
      "text/html": [
       "<div>\n",
       "<style scoped>\n",
       "    .dataframe tbody tr th:only-of-type {\n",
       "        vertical-align: middle;\n",
       "    }\n",
       "\n",
       "    .dataframe tbody tr th {\n",
       "        vertical-align: top;\n",
       "    }\n",
       "\n",
       "    .dataframe thead th {\n",
       "        text-align: right;\n",
       "    }\n",
       "</style>\n",
       "<table border=\"1\" class=\"dataframe\">\n",
       "  <thead>\n",
       "    <tr style=\"text-align: right;\">\n",
       "      <th></th>\n",
       "      <th>0</th>\n",
       "      <th>1</th>\n",
       "      <th>2</th>\n",
       "      <th>3</th>\n",
       "      <th>4</th>\n",
       "      <th>5</th>\n",
       "      <th>6</th>\n",
       "      <th>7</th>\n",
       "      <th>8</th>\n",
       "      <th>9</th>\n",
       "      <th>...</th>\n",
       "      <th>490</th>\n",
       "      <th>491</th>\n",
       "      <th>492</th>\n",
       "      <th>493</th>\n",
       "      <th>494</th>\n",
       "      <th>495</th>\n",
       "      <th>496</th>\n",
       "      <th>497</th>\n",
       "      <th>498</th>\n",
       "      <th>499</th>\n",
       "    </tr>\n",
       "  </thead>\n",
       "  <tbody>\n",
       "    <tr>\n",
       "      <th>0</th>\n",
       "      <td>1.000000</td>\n",
       "      <td>1.000000</td>\n",
       "      <td>1.000000</td>\n",
       "      <td>1.000000</td>\n",
       "      <td>1.000000</td>\n",
       "      <td>1.000000</td>\n",
       "      <td>1.000000</td>\n",
       "      <td>1.000000</td>\n",
       "      <td>1.000000</td>\n",
       "      <td>1.000000</td>\n",
       "      <td>...</td>\n",
       "      <td>1.000000</td>\n",
       "      <td>1.000000</td>\n",
       "      <td>1.000000</td>\n",
       "      <td>1.000000</td>\n",
       "      <td>1.000000</td>\n",
       "      <td>1.000000</td>\n",
       "      <td>1.000000</td>\n",
       "      <td>1.000000</td>\n",
       "      <td>1.000000</td>\n",
       "      <td>1.000000</td>\n",
       "    </tr>\n",
       "    <tr>\n",
       "      <th>1</th>\n",
       "      <td>1.003540</td>\n",
       "      <td>0.992360</td>\n",
       "      <td>0.991729</td>\n",
       "      <td>1.011036</td>\n",
       "      <td>1.007127</td>\n",
       "      <td>1.006669</td>\n",
       "      <td>0.992741</td>\n",
       "      <td>0.993124</td>\n",
       "      <td>0.991111</td>\n",
       "      <td>0.998012</td>\n",
       "      <td>...</td>\n",
       "      <td>1.000769</td>\n",
       "      <td>1.001276</td>\n",
       "      <td>0.993517</td>\n",
       "      <td>1.002125</td>\n",
       "      <td>1.003816</td>\n",
       "      <td>0.995535</td>\n",
       "      <td>1.008155</td>\n",
       "      <td>0.998371</td>\n",
       "      <td>0.996597</td>\n",
       "      <td>0.995626</td>\n",
       "    </tr>\n",
       "    <tr>\n",
       "      <th>2</th>\n",
       "      <td>1.000171</td>\n",
       "      <td>0.994348</td>\n",
       "      <td>0.994872</td>\n",
       "      <td>1.012658</td>\n",
       "      <td>1.004641</td>\n",
       "      <td>1.011059</td>\n",
       "      <td>0.994312</td>\n",
       "      <td>0.987484</td>\n",
       "      <td>0.975569</td>\n",
       "      <td>0.990837</td>\n",
       "      <td>...</td>\n",
       "      <td>1.005823</td>\n",
       "      <td>1.005193</td>\n",
       "      <td>0.998990</td>\n",
       "      <td>1.008895</td>\n",
       "      <td>1.003603</td>\n",
       "      <td>0.990676</td>\n",
       "      <td>1.016509</td>\n",
       "      <td>0.992667</td>\n",
       "      <td>1.004663</td>\n",
       "      <td>1.004656</td>\n",
       "    </tr>\n",
       "    <tr>\n",
       "      <th>3</th>\n",
       "      <td>1.000537</td>\n",
       "      <td>0.990897</td>\n",
       "      <td>0.996196</td>\n",
       "      <td>1.008659</td>\n",
       "      <td>1.004751</td>\n",
       "      <td>1.002979</td>\n",
       "      <td>1.006012</td>\n",
       "      <td>0.984838</td>\n",
       "      <td>0.961017</td>\n",
       "      <td>0.994726</td>\n",
       "      <td>...</td>\n",
       "      <td>1.017410</td>\n",
       "      <td>1.003157</td>\n",
       "      <td>0.994102</td>\n",
       "      <td>1.016600</td>\n",
       "      <td>0.994277</td>\n",
       "      <td>1.000021</td>\n",
       "      <td>1.015021</td>\n",
       "      <td>0.995366</td>\n",
       "      <td>1.011013</td>\n",
       "      <td>1.007692</td>\n",
       "    </tr>\n",
       "    <tr>\n",
       "      <th>4</th>\n",
       "      <td>0.999951</td>\n",
       "      <td>0.992193</td>\n",
       "      <td>0.991682</td>\n",
       "      <td>1.005132</td>\n",
       "      <td>1.002327</td>\n",
       "      <td>1.011155</td>\n",
       "      <td>1.009620</td>\n",
       "      <td>0.978408</td>\n",
       "      <td>0.956625</td>\n",
       "      <td>0.986308</td>\n",
       "      <td>...</td>\n",
       "      <td>1.014755</td>\n",
       "      <td>0.991856</td>\n",
       "      <td>0.990671</td>\n",
       "      <td>1.025002</td>\n",
       "      <td>0.993542</td>\n",
       "      <td>1.007993</td>\n",
       "      <td>1.023956</td>\n",
       "      <td>0.993421</td>\n",
       "      <td>1.008581</td>\n",
       "      <td>1.019099</td>\n",
       "    </tr>\n",
       "    <tr>\n",
       "      <th>...</th>\n",
       "      <td>...</td>\n",
       "      <td>...</td>\n",
       "      <td>...</td>\n",
       "      <td>...</td>\n",
       "      <td>...</td>\n",
       "      <td>...</td>\n",
       "      <td>...</td>\n",
       "      <td>...</td>\n",
       "      <td>...</td>\n",
       "      <td>...</td>\n",
       "      <td>...</td>\n",
       "      <td>...</td>\n",
       "      <td>...</td>\n",
       "      <td>...</td>\n",
       "      <td>...</td>\n",
       "      <td>...</td>\n",
       "      <td>...</td>\n",
       "      <td>...</td>\n",
       "      <td>...</td>\n",
       "      <td>...</td>\n",
       "      <td>...</td>\n",
       "    </tr>\n",
       "    <tr>\n",
       "      <th>7556</th>\n",
       "      <td>1839.100564</td>\n",
       "      <td>593.656113</td>\n",
       "      <td>1049.614452</td>\n",
       "      <td>213.320685</td>\n",
       "      <td>478.943600</td>\n",
       "      <td>1085.761162</td>\n",
       "      <td>667.893074</td>\n",
       "      <td>613.572526</td>\n",
       "      <td>289.457189</td>\n",
       "      <td>592.333003</td>\n",
       "      <td>...</td>\n",
       "      <td>814.324063</td>\n",
       "      <td>153.143208</td>\n",
       "      <td>865.030169</td>\n",
       "      <td>541.058366</td>\n",
       "      <td>733.263261</td>\n",
       "      <td>622.442013</td>\n",
       "      <td>520.767412</td>\n",
       "      <td>428.940706</td>\n",
       "      <td>297.627434</td>\n",
       "      <td>479.401110</td>\n",
       "    </tr>\n",
       "    <tr>\n",
       "      <th>7557</th>\n",
       "      <td>1846.093138</td>\n",
       "      <td>597.291064</td>\n",
       "      <td>1051.255880</td>\n",
       "      <td>212.933763</td>\n",
       "      <td>475.897974</td>\n",
       "      <td>1090.251291</td>\n",
       "      <td>672.143554</td>\n",
       "      <td>613.269262</td>\n",
       "      <td>288.920381</td>\n",
       "      <td>590.717678</td>\n",
       "      <td>...</td>\n",
       "      <td>808.715348</td>\n",
       "      <td>153.034681</td>\n",
       "      <td>864.130837</td>\n",
       "      <td>543.275562</td>\n",
       "      <td>734.212771</td>\n",
       "      <td>619.781180</td>\n",
       "      <td>519.323428</td>\n",
       "      <td>429.457310</td>\n",
       "      <td>296.466954</td>\n",
       "      <td>483.084059</td>\n",
       "    </tr>\n",
       "    <tr>\n",
       "      <th>7558</th>\n",
       "      <td>1854.528944</td>\n",
       "      <td>595.519902</td>\n",
       "      <td>1048.391983</td>\n",
       "      <td>214.164142</td>\n",
       "      <td>474.551728</td>\n",
       "      <td>1090.897250</td>\n",
       "      <td>668.893059</td>\n",
       "      <td>615.651338</td>\n",
       "      <td>288.112082</td>\n",
       "      <td>600.090466</td>\n",
       "      <td>...</td>\n",
       "      <td>811.310081</td>\n",
       "      <td>154.361166</td>\n",
       "      <td>858.082135</td>\n",
       "      <td>544.996311</td>\n",
       "      <td>738.074635</td>\n",
       "      <td>623.223410</td>\n",
       "      <td>518.150553</td>\n",
       "      <td>427.724019</td>\n",
       "      <td>295.694222</td>\n",
       "      <td>488.192965</td>\n",
       "    </tr>\n",
       "    <tr>\n",
       "      <th>7559</th>\n",
       "      <td>1847.631252</td>\n",
       "      <td>594.862792</td>\n",
       "      <td>1052.573456</td>\n",
       "      <td>214.432462</td>\n",
       "      <td>478.024318</td>\n",
       "      <td>1094.200895</td>\n",
       "      <td>670.712389</td>\n",
       "      <td>617.932016</td>\n",
       "      <td>286.291271</td>\n",
       "      <td>600.313387</td>\n",
       "      <td>...</td>\n",
       "      <td>809.230266</td>\n",
       "      <td>155.620675</td>\n",
       "      <td>858.669757</td>\n",
       "      <td>549.063013</td>\n",
       "      <td>736.330398</td>\n",
       "      <td>625.712018</td>\n",
       "      <td>517.845690</td>\n",
       "      <td>427.743375</td>\n",
       "      <td>296.368780</td>\n",
       "      <td>489.631926</td>\n",
       "    </tr>\n",
       "    <tr>\n",
       "      <th>7560</th>\n",
       "      <td>1840.884251</td>\n",
       "      <td>597.034962</td>\n",
       "      <td>1059.687775</td>\n",
       "      <td>215.538052</td>\n",
       "      <td>478.809478</td>\n",
       "      <td>1096.171120</td>\n",
       "      <td>667.332429</td>\n",
       "      <td>614.850304</td>\n",
       "      <td>288.207151</td>\n",
       "      <td>598.903606</td>\n",
       "      <td>...</td>\n",
       "      <td>817.463431</td>\n",
       "      <td>155.442932</td>\n",
       "      <td>861.244265</td>\n",
       "      <td>553.676325</td>\n",
       "      <td>731.145618</td>\n",
       "      <td>619.843701</td>\n",
       "      <td>517.183852</td>\n",
       "      <td>431.783846</td>\n",
       "      <td>295.312190</td>\n",
       "      <td>486.390757</td>\n",
       "    </tr>\n",
       "  </tbody>\n",
       "</table>\n",
       "<p>7561 rows × 500 columns</p>\n",
       "</div>"
      ],
      "text/plain": [
       "              0           1            2           3           4    \\\n",
       "0        1.000000    1.000000     1.000000    1.000000    1.000000   \n",
       "1        1.003540    0.992360     0.991729    1.011036    1.007127   \n",
       "2        1.000171    0.994348     0.994872    1.012658    1.004641   \n",
       "3        1.000537    0.990897     0.996196    1.008659    1.004751   \n",
       "4        0.999951    0.992193     0.991682    1.005132    1.002327   \n",
       "...           ...         ...          ...         ...         ...   \n",
       "7556  1839.100564  593.656113  1049.614452  213.320685  478.943600   \n",
       "7557  1846.093138  597.291064  1051.255880  212.933763  475.897974   \n",
       "7558  1854.528944  595.519902  1048.391983  214.164142  474.551728   \n",
       "7559  1847.631252  594.862792  1052.573456  214.432462  478.024318   \n",
       "7560  1840.884251  597.034962  1059.687775  215.538052  478.809478   \n",
       "\n",
       "              5           6           7           8           9    ...  \\\n",
       "0        1.000000    1.000000    1.000000    1.000000    1.000000  ...   \n",
       "1        1.006669    0.992741    0.993124    0.991111    0.998012  ...   \n",
       "2        1.011059    0.994312    0.987484    0.975569    0.990837  ...   \n",
       "3        1.002979    1.006012    0.984838    0.961017    0.994726  ...   \n",
       "4        1.011155    1.009620    0.978408    0.956625    0.986308  ...   \n",
       "...           ...         ...         ...         ...         ...  ...   \n",
       "7556  1085.761162  667.893074  613.572526  289.457189  592.333003  ...   \n",
       "7557  1090.251291  672.143554  613.269262  288.920381  590.717678  ...   \n",
       "7558  1090.897250  668.893059  615.651338  288.112082  600.090466  ...   \n",
       "7559  1094.200895  670.712389  617.932016  286.291271  600.313387  ...   \n",
       "7560  1096.171120  667.332429  614.850304  288.207151  598.903606  ...   \n",
       "\n",
       "             490         491         492         493         494         495  \\\n",
       "0       1.000000    1.000000    1.000000    1.000000    1.000000    1.000000   \n",
       "1       1.000769    1.001276    0.993517    1.002125    1.003816    0.995535   \n",
       "2       1.005823    1.005193    0.998990    1.008895    1.003603    0.990676   \n",
       "3       1.017410    1.003157    0.994102    1.016600    0.994277    1.000021   \n",
       "4       1.014755    0.991856    0.990671    1.025002    0.993542    1.007993   \n",
       "...          ...         ...         ...         ...         ...         ...   \n",
       "7556  814.324063  153.143208  865.030169  541.058366  733.263261  622.442013   \n",
       "7557  808.715348  153.034681  864.130837  543.275562  734.212771  619.781180   \n",
       "7558  811.310081  154.361166  858.082135  544.996311  738.074635  623.223410   \n",
       "7559  809.230266  155.620675  858.669757  549.063013  736.330398  625.712018   \n",
       "7560  817.463431  155.442932  861.244265  553.676325  731.145618  619.843701   \n",
       "\n",
       "             496         497         498         499  \n",
       "0       1.000000    1.000000    1.000000    1.000000  \n",
       "1       1.008155    0.998371    0.996597    0.995626  \n",
       "2       1.016509    0.992667    1.004663    1.004656  \n",
       "3       1.015021    0.995366    1.011013    1.007692  \n",
       "4       1.023956    0.993421    1.008581    1.019099  \n",
       "...          ...         ...         ...         ...  \n",
       "7556  520.767412  428.940706  297.627434  479.401110  \n",
       "7557  519.323428  429.457310  296.466954  483.084059  \n",
       "7558  518.150553  427.724019  295.694222  488.192965  \n",
       "7559  517.845690  427.743375  296.368780  489.631926  \n",
       "7560  517.183852  431.783846  295.312190  486.390757  \n",
       "\n",
       "[7561 rows x 500 columns]"
      ]
     },
     "execution_count": 22,
     "metadata": {},
     "output_type": "execute_result"
    }
   ],
   "source": [
    "# Running a Monte Carlo simulation to forecast 30 years cumulative returns\n",
    "MC_thirtyyear.calc_cumulative_return()"
   ]
  },
  {
   "cell_type": "code",
   "execution_count": 23,
   "metadata": {},
   "outputs": [
    {
     "data": {
      "image/png": "[encoded data removed]",
      "text/plain": [
       "<Figure size 432x288 with 1 Axes>"
      ]
     },
     "metadata": {
      "needs_background": "light"
     },
     "output_type": "display_data"
    }
   ],
   "source": [
    "# Plot simulation outcomes\n",
    "line_plot = MC_thirtyyear.plot_simulation()"
   ]
  },
  {
   "cell_type": "code",
   "execution_count": 24,
   "metadata": {},
   "outputs": [
    {
     "data": {
      "image/png": "[encoded data removed]",
      "text/plain": [
       "<Figure size 432x288 with 1 Axes>"
      ]
     },
     "metadata": {
      "needs_background": "light"
     },
     "output_type": "display_data"
    }
   ],
   "source": [
    "# Plot probability distribution and confidence intervals\n",
    "distro_plot = MC_thirtyyear.plot_distribution()"
   ]
  },
  {
   "cell_type": "markdown",
   "metadata": {},
   "source": [
    "### Retirement Analysis"
   ]
  },
  {
   "cell_type": "code",
   "execution_count": 25,
   "metadata": {},
   "outputs": [
    {
     "name": "stdout",
     "output_type": "stream",
     "text": [
      "count            500.000000\n",
      "mean             644.045207\n",
      "std              343.585320\n",
      "min              124.637431\n",
      "25%              408.236434\n",
      "50%              577.646991\n",
      "75%              805.171324\n",
      "max             2441.539495\n",
      "95% CI Lower     185.934150\n",
      "95% CI Upper    1530.171787\n",
      "Name: 7560, dtype: float64\n"
     ]
    }
   ],
   "source": [
    "# Fetch summary statistics from the Monte Carlo simulation results\n",
    "ty_results = MC_thirtyyear.summarize_cumulative_return()\n",
    "\n",
    "# Print summary statistics\n",
    "print(ty_results)"
   ]
  },
  {
   "cell_type": "markdown",
   "metadata": {},
   "source": [
    "### Calculate the expected portfolio return at the 95% lower and upper confidence intervals based on a `$20,000` initial investment."
   ]
  },
  {
   "cell_type": "code",
   "execution_count": 26,
   "metadata": {},
   "outputs": [
    {
     "name": "stdout",
     "output_type": "stream",
     "text": [
      "There is a 95% chance that an initial investment of $20000 in the portfolio over the next 30 years will end within in the range of $7437366 and $61206871\n"
     ]
    }
   ],
   "source": [
    "# Set initial investment\n",
    "initial_investment = 20000\n",
    "\n",
    "# Use the lower and upper `95%` confidence intervals to calculate the range of the possible outcomes of our $20,000\n",
    "ci_lower=round(ty_results[8]*20000*2)\n",
    "ci_upper=round(ty_results[9]*20000*2)\n",
    "\n",
    "# Print results\n",
    "print(f\"There is a 95% chance that an initial investment of ${initial_investment} in the portfolio\"\n",
    "      f\" over the next 30 years will end within in the range of\"\n",
    "      f\" ${ci_lower} and ${ci_upper}\")"
   ]
  },
  {
   "cell_type": "markdown",
   "metadata": {},
   "source": [
    "### Calculate the expected portfolio return at the `95%` lower and upper confidence intervals based on a `50%` increase in the initial investment."
   ]
  },
  {
   "cell_type": "code",
   "execution_count": 27,
   "metadata": {},
   "outputs": [
    {
     "name": "stdout",
     "output_type": "stream",
     "text": [
      "There is a 95% chance that an initial investment of $30000.0 in the portfolio over the next 30 years will end within in the range of $7437366 and $61206871\n"
     ]
    }
   ],
   "source": [
    "# Set initial investment\n",
    "initial_investment = 20000 * 1.5\n",
    "\n",
    "# Use the lower and upper `95%` confidence intervals to calculate the range of the possible outcomes of our $30,000\n",
    "ci_lower=round(ty_results[8]*20000*2)\n",
    "ci_upper=round(ty_results[9]*20000*2)\n",
    "\n",
    "# Print results\n",
    "print(f\"There is a 95% chance that an initial investment of ${initial_investment} in the portfolio\"\n",
    "      f\" over the next 30 years will end within in the range of\"\n",
    "      f\" ${ci_lower} and ${ci_upper}\")"
   ]
  },
  {
   "cell_type": "markdown",
   "metadata": {},
   "source": [
    "## Optional Challenge - Early Retirement\n",
    "\n",
    "\n",
    "### Five Years Retirement Option"
   ]
  },
  {
   "cell_type": "code",
   "execution_count": null,
   "metadata": {},
   "outputs": [],
   "source": [
    "# Configuring a Monte Carlo simulation to forecast 5 years cumulative returns\n",
    "# YOUR CODE HERE!"
   ]
  },
  {
   "cell_type": "code",
   "execution_count": null,
   "metadata": {},
   "outputs": [],
   "source": [
    "# Running a Monte Carlo simulation to forecast 5 years cumulative returns\n",
    "# YOUR CODE HERE!"
   ]
  },
  {
   "cell_type": "code",
   "execution_count": null,
   "metadata": {},
   "outputs": [],
   "source": [
    "# Plot simulation outcomes\n",
    "# YOUR CODE HERE!"
   ]
  },
  {
   "cell_type": "code",
   "execution_count": null,
   "metadata": {},
   "outputs": [],
   "source": [
    "# Plot probability distribution and confidence intervals\n",
    "# YOUR CODE HERE!"
   ]
  },
  {
   "cell_type": "code",
   "execution_count": null,
   "metadata": {},
   "outputs": [],
   "source": [
    "# Fetch summary statistics from the Monte Carlo simulation results\n",
    "# YOUR CODE HERE!\n",
    "\n",
    "# Print summary statistics\n",
    "# YOUR CODE HERE!"
   ]
  },
  {
   "cell_type": "code",
   "execution_count": null,
   "metadata": {},
   "outputs": [],
   "source": [
    "# Set initial investment\n",
    "# YOUR CODE HERE!\n",
    "\n",
    "# Use the lower and upper `95%` confidence intervals to calculate the range of the possible outcomes of our $60,000\n",
    "# YOUR CODE HERE!\n",
    "\n",
    "# Print results\n",
    "print(f\"There is a 95% chance that an initial investment of ${initial_investment} in the portfolio\"\n",
    "      f\" over the next 5 years will end within in the range of\"\n",
    "      f\" ${ci_lower_five} and ${ci_upper_five}\")"
   ]
  },
  {
   "cell_type": "markdown",
   "metadata": {},
   "source": [
    "### Ten Years Retirement Option"
   ]
  },
  {
   "cell_type": "code",
   "execution_count": null,
   "metadata": {},
   "outputs": [],
   "source": [
    "# Configuring a Monte Carlo simulation to forecast 10 years cumulative returns\n",
    "# YOUR CODE HERE!"
   ]
  },
  {
   "cell_type": "code",
   "execution_count": null,
   "metadata": {},
   "outputs": [],
   "source": [
    "# Running a Monte Carlo simulation to forecast 10 years cumulative returns\n",
    "# YOUR CODE HERE!"
   ]
  },
  {
   "cell_type": "code",
   "execution_count": null,
   "metadata": {},
   "outputs": [],
   "source": [
    "# Plot simulation outcomes\n",
    "# YOUR CODE HERE!"
   ]
  },
  {
   "cell_type": "code",
   "execution_count": null,
   "metadata": {},
   "outputs": [],
   "source": [
    "# Plot probability distribution and confidence intervals\n",
    "# YOUR CODE HERE!"
   ]
  },
  {
   "cell_type": "code",
   "execution_count": null,
   "metadata": {},
   "outputs": [],
   "source": [
    "# Fetch summary statistics from the Monte Carlo simulation results\n",
    "# YOUR CODE HERE!\n",
    "\n",
    "# Print summary statistics\n",
    "# YOUR CODE HERE!"
   ]
  },
  {
   "cell_type": "code",
   "execution_count": null,
   "metadata": {},
   "outputs": [],
   "source": [
    "# Set initial investment\n",
    "# YOUR CODE HERE!\n",
    "\n",
    "# Use the lower and upper `95%` confidence intervals to calculate the range of the possible outcomes of our $60,000\n",
    "# YOUR CODE HERE!\n",
    "\n",
    "# Print results\n",
    "print(f\"There is a 95% chance that an initial investment of ${initial_investment} in the portfolio\"\n",
    "      f\" over the next 10 years will end within in the range of\"\n",
    "      f\" ${ci_lower_ten} and ${ci_upper_ten}\")"
   ]
  }
 ],
 "metadata": {
  "kernelspec": {
   "display_name": "Python 3",
   "language": "python",
   "name": "python3"
  },
  "language_info": {
   "codemirror_mode": {
    "name": "ipython",
    "version": 3
   },
   "file_extension": ".py",
   "mimetype": "text/x-python",
   "name": "python",
   "nbconvert_exporter": "python",
   "pygments_lexer": "ipython3",
   "version": "3.7.9"
  }
 },
 "nbformat": 4,
 "nbformat_minor": 4
}
